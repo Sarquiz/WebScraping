{
 "cells": [
  {
   "cell_type": "markdown",
   "metadata": {},
   "source": [
    "# Web Scraping Facebook"
   ]
  },
  {
   "cell_type": "markdown",
   "metadata": {},
   "source": [
    "## Algoritmo para Scraped las fotos del facebook\n"
   ]
  },
  {
   "cell_type": "code",
   "execution_count": null,
   "metadata": {},
   "outputs": [],
   "source": [
    " # 1. conda install -c conda-forge selenium\n",
    " # 2. conda install -c conda-forge python-wget\n",
    " # 3. descargar chrome webdriver para 32bits zip\n",
    "     (extraer en la carpeta donde se encuentra el folio)\n",
    "        \n",
    "        #mariya mariyasha"
   ]
  },
  {
   "cell_type": "code",
   "execution_count": null,
   "metadata": {},
   "outputs": [],
   "source": [
    "#importar en el archivo\n",
    "from selenium import webdriver\n",
    "from selenium.webdriver.common.keys import Keys\n",
    "from selenium.webdriver.support import expected_conditions as EC\n",
    "from selenium.webdriver.common.by import WebDriverWait\n",
    "import os\n",
    "import wget\n",
    "import time\n"
   ]
  },
  {
   "cell_type": "markdown",
   "metadata": {},
   "source": [
    "# Download ChromeDrive\n",
    "     descargar chrome webdriver para 32bits zip\n",
    "     https://chromedriver.chromlum.org/\n",
    "     "
   ]
  },
  {
   "cell_type": "code",
   "execution_count": null,
   "metadata": {},
   "outputs": [],
   "source": [
    "#Opciones del Driver\n",
    "chrome_option = webdriver.ChromeOption()\n",
    "prefs = {\"profile.default_content_setting_values.notifiations\" :2}\n",
    "chrome_option.add_experimental_option(\"prefs\",prefs)\n",
    "\n",
    "\n",
    "#Espicificar el path to chromedriver.exe (download y guardar en tu computador).\n",
    "driver = webdriver.chrome('C:/ \"ubicacion donde se guardo\"/chromedriver.exe', chrome_option=chrome_options)\n",
    "\n",
    "# Abrir la Pagina Web\n",
    "driver.get(\"https://www.facebook.com\")\n",
    "\n",
    "#Usuario del Objeto\n",
    "username = WebDriverWait(driver,10).until(EC.element_to_be_clickable((By.CSS_SELECTOR, \"input[name='email']\")))\n",
    "password = WebDriverWait(driver,10).until(EC.element_to_be_clickable((By.CSS_SELECTOR, \"input[name='pass']\")))\n",
    "\n",
    "#Entrada del Username & Password\n",
    "\n",
    "username.clear()\n",
    "username.send_keys(\"my_gmail\")\n",
    "password.clear()\n",
    "password.send_keys(\"my_password\")\n",
    "\n",
    "#Objeto del boton del login and click it\n",
    "button = WebDriverWait(driver,10).until(EC.element_to_be_clickable((By.CSS_SELECTOR, \"button[type='submit']\")))\n",
    ").click()\n",
    "\n",
    "                                                                   \n",
    "#Nos logearemos\n",
    "                                                                   "
   ]
  },
  {
   "cell_type": "code",
   "execution_count": null,
   "metadata": {},
   "outputs": [],
   "source": [
    "#Colocar aqui link de tu pagina web e iniciar un Loop\n",
    "images = []\n",
    "\n",
    "for i in ['photos_of', 'photos_all']:\n",
    "    driver.get(\"https:// url del facebook/\" + i + \"/\")\n",
    "    time.sleep(5)\n",
    "    \n",
    "    n_scrolls = 2\n",
    "    for j in range(1, n_scrolls):\n",
    "        driver.execute_script(\"window.scrollTo(0, document.body.scrollHeight);\")\n",
    "        time.sleep(5)\n",
    "        \n",
    "        anchors = driver.find_elements_by_tag_name('a')\n",
    "        anchors = [a.get_attribute('href') for a in anchors]\n",
    "        anchors = [a for a in anchors if str(a).startswitch(\"https://www.facebook.com/photo\")]\n",
    "        #print(anchors)\n",
    "    \n",
    "    for a in anchors:\n",
    "        driver.get(a)\n",
    "        time.sleep(5)\n",
    "        img = driver.find_elements_by_tag_name(\"img\")\n",
    "        images.append(img[1].get_attribute(\"src\"))\n",
    "        #for k in img:\n",
    "        #print (k.get_attribute(\"src\"))\n",
    "images\n",
    "    \n"
   ]
  },
  {
   "cell_type": "code",
   "execution_count": null,
   "metadata": {},
   "outputs": [],
   "source": [
    "path = os.getcwd()\n",
    "path = os.path.join(path, \"ScrapedPhotos\")\n",
    "\n",
    "#crear el directorio\n",
    "os.mkdir(path)\n",
    "\n",
    "path"
   ]
  },
  {
   "cell_type": "code",
   "execution_count": null,
   "metadata": {},
   "outputs": [],
   "source": [
    "counter = 0 \n",
    "for image in images: \n",
    "    save_as = os.path.join(path, str(counter) + '.jpg')\n",
    "    wget.download(image,save_as)\n",
    "    counter += 1\n",
    "    "
   ]
  }
 ],
 "metadata": {
  "kernelspec": {
   "display_name": "Python 3",
   "language": "python",
   "name": "python3"
  },
  "language_info": {
   "codemirror_mode": {
    "name": "ipython",
    "version": 3
   },
   "file_extension": ".py",
   "mimetype": "text/x-python",
   "name": "python",
   "nbconvert_exporter": "python",
   "pygments_lexer": "ipython3",
   "version": "3.8.5"
  }
 },
 "nbformat": 4,
 "nbformat_minor": 4
}
